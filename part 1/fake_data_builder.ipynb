{
 "cells": [
  {
   "cell_type": "code",
   "execution_count": 1,
   "id": "c120f2de",
   "metadata": {},
   "outputs": [],
   "source": [
    "import pandas as pd\n",
    "import numpy as np\n",
    "import csv\n",
    "from scipy.stats import norm"
   ]
  },
  {
   "cell_type": "code",
   "execution_count": 2,
   "id": "c7b1f046",
   "metadata": {},
   "outputs": [],
   "source": [
    "#PART 1\n",
    "np.random.seed(0)\n",
    "n = 800\n",
    "GROUP = ['A', 'B', 'C']\n",
    "\n",
    "df_id = [f\"ID{str(i).zfill(3)}\" for i in range(n)]\n",
    "df_group = np.random.choice(GROUP, n)\n",
    "\n",
    "\n",
    "sd_feature_1 = (2800 - 2500) / 1\n",
    "df_feature_1 = np.random.normal(2500, sd_feature_1, n)\n",
    "df_feature_2 = np.random.normal(400, 15, n)\n"
   ]
  },
  {
   "cell_type": "code",
   "execution_count": 3,
   "id": "946cb5d0",
   "metadata": {},
   "outputs": [],
   "source": [
    "\n",
    "def calculate_feature_3(group, feature_1, feature_2):\n",
    "    if group == 'A':\n",
    "        return 3*feature_1 - 5*feature_2 + np.random.normal(0, 12)\n",
    "    elif group == 'B':\n",
    "        return 2*feature_1 + np.random.normal(0, 12)\n",
    "    elif group == 'C':\n",
    "        return -feature_1 + feature_2 + np.random.normal(0, 12)\n",
    "\n",
    "df_feature_3 = [calculate_feature_3(group, f1, f2) for group, f1, f2 in zip(df_group, df_feature_1, df_feature_2)]\n",
    "\n",
    "df = pd.DataFrame({\n",
    "    'ID': df_id,\n",
    "    'Group': df_group,\n",
    "    'Feature_1': df_feature_1,\n",
    "    'Feature_2': df_feature_2,\n",
    "    'Feature_3': df_feature_3\n",
    "})\n"
   ]
  },
  {
   "cell_type": "code",
   "execution_count": 4,
   "id": "ab8e4fae",
   "metadata": {},
   "outputs": [],
   "source": [
    "path = '/Users/ziyiyan/Desktop/fake_data.csv'\n",
    "df.to_csv(path, index=False)"
   ]
  },
  {
   "cell_type": "code",
   "execution_count": 5,
   "id": "aeadd4ac",
   "metadata": {},
   "outputs": [
    {
     "data": {
      "text/plain": [
       "(38.23228181825176,\n",
       " 34,\n",
       "               mean         std\n",
       " Group                         \n",
       " A      5469.938833  930.027170\n",
       " B      5004.077501  577.307357\n",
       " C     -2090.622241  290.193469,\n",
       " '/Users/ziyiyan/Desktop/fake_data.csv')"
      ]
     },
     "execution_count": 5,
     "metadata": {},
     "output_type": "execute_result"
    }
   ],
   "source": [
    "#path = '/Users/ziyiyan/Desktop/fake_data.csv'\n",
    "above_3000 = 1 - norm.cdf(3000, 2500, sd_feature_1)\n",
    "expected = above_3000 * n\n",
    "\n",
    "actual = np.sum(df_feature_1 > 3000)\n",
    "\n",
    "group_stats = df.groupby('Group')['Feature_3'].agg(['mean', 'std'])\n",
    "\n",
    "expected, actual, group_stats, path"
   ]
  },
  {
   "cell_type": "code",
   "execution_count": 6,
   "id": "75992469",
   "metadata": {},
   "outputs": [
    {
     "data": {
      "text/plain": [
       "2494.2558613774063"
      ]
     },
     "execution_count": 6,
     "metadata": {},
     "output_type": "execute_result"
    }
   ],
   "source": [
    "\n",
    "df['Feature_1'].mean()"
   ]
  },
  {
   "cell_type": "code",
   "execution_count": 7,
   "id": "bab5b940",
   "metadata": {},
   "outputs": [
    {
     "data": {
      "text/plain": [
       "399.9600934736985"
      ]
     },
     "execution_count": 7,
     "metadata": {},
     "output_type": "execute_result"
    }
   ],
   "source": [
    "df['Feature_2'].mean()"
   ]
  },
  {
   "cell_type": "code",
   "execution_count": null,
   "id": "900a45e7",
   "metadata": {},
   "outputs": [],
   "source": []
  }
 ],
 "metadata": {
  "kernelspec": {
   "display_name": "Python 3 (ipykernel)",
   "language": "python",
   "name": "python3"
  },
  "language_info": {
   "codemirror_mode": {
    "name": "ipython",
    "version": 3
   },
   "file_extension": ".py",
   "mimetype": "text/x-python",
   "name": "python",
   "nbconvert_exporter": "python",
   "pygments_lexer": "ipython3",
   "version": "3.11.4"
  }
 },
 "nbformat": 4,
 "nbformat_minor": 5
}
